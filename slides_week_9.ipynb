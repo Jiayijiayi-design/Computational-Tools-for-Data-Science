{
  "nbformat": 4,
  "nbformat_minor": 0,
  "metadata": {
    "application/vnd.databricks.v1+notebook": {
      "notebookName": "week9",
      "dashboards": [],
      "language": "python",
      "widgets": {},
      "notebookOrigID": 3496166733045498
    },
    "colab": {
      "name": "slides_week_9.ipynb",
      "provenance": []
    },
    "kernelspec": {
      "name": "python3",
      "display_name": "Python 3"
    }
  },
  "cells": [
    {
      "cell_type": "markdown",
      "metadata": {
        "application/vnd.databricks.v1+cell": {
          "title": "",
          "showTitle": false,
          "inputWidgets": {},
          "nuid": "85ed306c-bec2-4d4c-bb7e-369e9a7d75fe"
        },
        "id": "d0yupek117DP"
      },
      "source": [
        "# 02807 - Computational Tools for Data Science\n",
        "\n",
        "\n",
        "# Week 9"
      ]
    },
    {
      "cell_type": "markdown",
      "metadata": {
        "application/vnd.databricks.v1+cell": {
          "title": "",
          "showTitle": false,
          "inputWidgets": {},
          "nuid": "d77bcf08-cbcb-4460-9d04-14494f4a70f9"
        },
        "id": "6Cmspb0-17DQ"
      },
      "source": [
        "# <center> Today: Optimising and Tuning Spark Applications <center>\n",
        "\n",
        "Goals for today's lecture:\n",
        "\n",
        "* Understand the performance impact of **data caching** in Spark.\n",
        "* Learn how to cache your data for increased performance, and how to read the **storage tab** of the Spark UI.\n",
        "* Optimise Spark jobs by **configuring Shuffle Partitions**.\n",
        "* Optimise UDF performance using **vectorised/Pandas UDFs**."
      ]
    },
    {
      "cell_type": "markdown",
      "metadata": {
        "id": "9fn1JzE4FTE1"
      },
      "source": [
        "# Readings:\n",
        "\n",
        "\n",
        "* [*Learning Spark*, Ch. 7](https://pages.databricks.com/rs/094-YMS-629/images/LearningSpark2.0.pdf). *Optimizing and Tuning Spark Applications*\n"
      ]
    },
    {
      "cell_type": "markdown",
      "metadata": {
        "application/vnd.databricks.v1+cell": {
          "title": "",
          "showTitle": false,
          "inputWidgets": {},
          "nuid": "7c0459ac-c437-450c-afe7-97f01e7dee93"
        },
        "id": "YJ5XqtCv17DR"
      },
      "source": [
        "# San Francisco Fire Calls\n",
        "\n",
        "We will illustrate the topics of today with an example from [Chapter 3 of Learning Spark](https://pages.databricks.com/rs/094-YMS-629/images/LearningSpark2.0.pdf), using the [San Francisco Fire Department Calls ](https://data.sfgov.org/Public-Safety/Fire-Department-Calls-for-Service/nuek-vuh3) dataset.\n",
        "* There is a nice [code repository](https://github.com/databricks/LearningSparkV2) for the textbook. \n",
        "* It includes notebooks for several chapters; some of the today's code comes from them."
      ]
    },
    {
      "cell_type": "markdown",
      "metadata": {
        "application/vnd.databricks.v1+cell": {
          "title": "",
          "showTitle": false,
          "inputWidgets": {},
          "nuid": "8de8d311-d748-49ff-9259-f7599cfa916a"
        },
        "id": "e8nTEmIq17DS"
      },
      "source": [
        "# Setting up"
      ]
    },
    {
      "cell_type": "markdown",
      "metadata": {
        "application/vnd.databricks.v1+cell": {
          "title": "",
          "showTitle": false,
          "inputWidgets": {},
          "nuid": "655de39b-5d5a-4105-abfe-e0ed10ead721"
        },
        "id": "J0crLDDG17DS"
      },
      "source": [
        "If you are running this on **Colab**, setup PySpark by running the following cell. If you are running this in **databricks**, ignore the following code cell:"
      ]
    },
    {
      "cell_type": "code",
      "metadata": {
        "application/vnd.databricks.v1+cell": {
          "title": "",
          "showTitle": false,
          "inputWidgets": {},
          "nuid": "d2fc82ee-0e1e-4d0a-892d-153a328357f8"
        },
        "id": "ncDgsXlP17DT",
        "outputId": "64c2ca95-49df-429a-ecf4-a56405df187b",
        "colab": {
          "base_uri": "https://localhost:8080/",
          "height": 119
        }
      },
      "source": [
        "!pip install pyspark\n",
        "!pip install -U -q PyDrive\n",
        "!apt install openjdk-8-jdk-headless -qq\n",
        "!pip install pyarrow --upgrade\n",
        "import os\n",
        "os.environ[\"JAVA_HOME\"] = \"/usr/lib/jvm/java-8-openjdk-amd64\"\n",
        "\n",
        "# Let's import the libraries we will need\n",
        "import pyspark\n",
        "from pyspark.sql import *\n",
        "from pyspark import SparkContext, SparkConf\n",
        "\n",
        "# create the Spark session\n",
        "conf = SparkConf().set(\"spark.ui.port\", \"4050\")\n",
        "sc = pyspark.SparkContext(conf=conf)\n",
        "spark = SparkSession.builder.getOrCreate()"
      ],
      "execution_count": null,
      "outputs": [
        {
          "output_type": "stream",
          "text": [
            "Requirement already satisfied: pyspark in /usr/local/lib/python3.6/dist-packages (3.0.1)\n",
            "Requirement already satisfied: py4j==0.10.9 in /usr/local/lib/python3.6/dist-packages (from pyspark) (0.10.9)\n",
            "openjdk-8-jdk-headless is already the newest version (8u265-b01-0ubuntu2~18.04).\n",
            "0 upgraded, 0 newly installed, 0 to remove and 21 not upgraded.\n",
            "Requirement already up-to-date: pyarrow in /usr/local/lib/python3.6/dist-packages (2.0.0)\n",
            "Requirement already satisfied, skipping upgrade: numpy>=1.14 in /usr/local/lib/python3.6/dist-packages (from pyarrow) (1.18.5)\n"
          ],
          "name": "stdout"
        }
      ]
    },
    {
      "cell_type": "markdown",
      "metadata": {
        "application/vnd.databricks.v1+cell": {
          "title": "",
          "showTitle": false,
          "inputWidgets": {},
          "nuid": "f5ee8791-091f-40e5-aeca-7567fffeb093"
        },
        "id": "pfda6bjq17DW"
      },
      "source": [
        "Let's import some modules."
      ]
    },
    {
      "cell_type": "code",
      "metadata": {
        "application/vnd.databricks.v1+cell": {
          "title": "",
          "showTitle": false,
          "inputWidgets": {},
          "nuid": "e5de2746-c767-4576-a700-9478703a626c"
        },
        "id": "GqhHVaHP17DW"
      },
      "source": [
        "from pyspark.sql.types import *\n",
        "from pyspark.sql.functions import *"
      ],
      "execution_count": null,
      "outputs": []
    },
    {
      "cell_type": "markdown",
      "metadata": {
        "application/vnd.databricks.v1+cell": {
          "title": "",
          "showTitle": false,
          "inputWidgets": {},
          "nuid": "d95bd019-dbde-4278-965d-d41ccfcec553"
        },
        "id": "1m6Gx7VA17DZ"
      },
      "source": [
        "If you are running this on **databricks**, define the location of the public dataset as follows:"
      ]
    },
    {
      "cell_type": "code",
      "metadata": {
        "application/vnd.databricks.v1+cell": {
          "title": "",
          "showTitle": false,
          "inputWidgets": {},
          "nuid": "1f4474c9-801b-4d93-ac49-d17a5d18a78c"
        },
        "id": "Fb7J10tI17Da",
        "outputId": "41e6d660-786d-4707-b1ce-075e9210b115"
      },
      "source": [
        "sf_fire_file = \"/databricks-datasets/learning-spark-v2/sf-fire/sf-fire-calls.csv\""
      ],
      "execution_count": null,
      "outputs": [
        {
          "output_type": "display_data",
          "data": {
            "text/html": [
              "<style scoped>\n",
              "  .ansiout {\n",
              "    display: block;\n",
              "    unicode-bidi: embed;\n",
              "    white-space: pre-wrap;\n",
              "    word-wrap: break-word;\n",
              "    word-break: break-all;\n",
              "    font-family: \"Source Code Pro\", \"Menlo\", monospace;;\n",
              "    font-size: 13px;\n",
              "    color: #555;\n",
              "    margin-left: 4px;\n",
              "    line-height: 19px;\n",
              "  }\n",
              "</style>\n",
              "<div class=\"ansiout\"></div>"
            ]
          },
          "metadata": {
            "tags": [],
            "application/vnd.databricks.v1+output": {
              "datasetInfos": [],
              "data": "<div class=\"ansiout\"></div>",
              "removedWidgets": [],
              "addedWidgets": {},
              "type": "html",
              "arguments": {}
            }
          }
        }
      ]
    },
    {
      "cell_type": "markdown",
      "metadata": {
        "application/vnd.databricks.v1+cell": {
          "title": "",
          "showTitle": false,
          "inputWidgets": {},
          "nuid": "d46b1ce8-1805-4e94-8470-eb0497da1a29"
        },
        "id": "LbO_c9_N17Dc"
      },
      "source": [
        "If you are running this on **Colab**, grab a sample of the data and load it:"
      ]
    },
    {
      "cell_type": "code",
      "metadata": {
        "application/vnd.databricks.v1+cell": {
          "title": "",
          "showTitle": false,
          "inputWidgets": {},
          "nuid": "97c41d16-dc5e-4b46-b20d-04b96345fcbb"
        },
        "id": "h8hWVAWp17Dc",
        "outputId": "af1313c2-ef1e-440b-bfff-0ca2bd6aaeb6",
        "colab": {
          "base_uri": "https://localhost:8080/",
          "height": 85
        }
      },
      "source": [
        "from google.colab import drive\n",
        "# This will prompt for authorization.\n",
        "\n",
        "drive.mount('/content/drive')\n",
        "\n",
        "import os\n",
        "import urllib.request\n",
        "sf=urllib.request.urlretrieve(\"https://raw.githubusercontent.com/databricks/LearningSparkV2/master/chapter3/data/sf-fire-calls.csv\",'/content/sample_data/sf-fire-calls.csv')\n",
        "\n",
        "sf_fire_file = \"/content/sample_data/sf-fire-calls.csv\"\n",
        "\n",
        "!ls '/content/sample_data'"
      ],
      "execution_count": null,
      "outputs": [
        {
          "output_type": "stream",
          "text": [
            "Drive already mounted at /content/drive; to attempt to forcibly remount, call drive.mount(\"/content/drive\", force_remount=True).\n",
            "anscombe.json\t\t      mnist_test.csv\t     sf-fire-calls.csv\n",
            "california_housing_test.csv   mnist_train_small.csv\n",
            "california_housing_train.csv  README.md\n"
          ],
          "name": "stdout"
        }
      ]
    },
    {
      "cell_type": "markdown",
      "metadata": {
        "application/vnd.databricks.v1+cell": {
          "title": "",
          "showTitle": false,
          "inputWidgets": {},
          "nuid": "2da7c853-1b02-4127-b6ee-5648baded00c"
        },
        "id": "aNS7KwGo17De"
      },
      "source": [
        "The full file has 4 million records. Inferring the schema is expensive for large files, so we will define it instead."
      ]
    },
    {
      "cell_type": "code",
      "metadata": {
        "application/vnd.databricks.v1+cell": {
          "title": "",
          "showTitle": false,
          "inputWidgets": {},
          "nuid": "1056d1d3-45d0-4bd1-9efb-50dd89fdf64e"
        },
        "id": "Wwn9gfwj17Df"
      },
      "source": [
        "fire_schema = StructType([StructField('CallNumber', IntegerType(), True),\n",
        "                     StructField('UnitID', StringType(), True),\n",
        "                     StructField('IncidentNumber', IntegerType(), True),\n",
        "                     StructField('CallType', StringType(), True),                  \n",
        "                     StructField('CallDate', StringType(), True),      \n",
        "                     StructField('WatchDate', StringType(), True),\n",
        "                     StructField('CallFinalDisposition', StringType(), True),\n",
        "                     StructField('AvailableDtTm', StringType(), True),\n",
        "                     StructField('Address', StringType(), True),       \n",
        "                     StructField('City', StringType(), True),       \n",
        "                     StructField('Zipcode', IntegerType(), True),       \n",
        "                     StructField('Battalion', StringType(), True),                 \n",
        "                     StructField('StationArea', StringType(), True),       \n",
        "                     StructField('Box', StringType(), True),       \n",
        "                     StructField('OriginalPriority', StringType(), True),       \n",
        "                     StructField('Priority', StringType(), True),       \n",
        "                     StructField('FinalPriority', IntegerType(), True),       \n",
        "                     StructField('ALSUnit', BooleanType(), True),       \n",
        "                     StructField('CallTypeGroup', StringType(), True),\n",
        "                     StructField('NumAlarms', IntegerType(), True),\n",
        "                     StructField('UnitType', StringType(), True),\n",
        "                     StructField('UnitSequenceInCallDispatch', IntegerType(), True),\n",
        "                     StructField('FirePreventionDistrict', StringType(), True),\n",
        "                     StructField('SupervisorDistrict', StringType(), True),\n",
        "                     StructField('Neighborhood', StringType(), True),\n",
        "                     StructField('Location', StringType(), True),\n",
        "                     StructField('RowID', StringType(), True),\n",
        "                     StructField('Delay', FloatType(), True)])"
      ],
      "execution_count": null,
      "outputs": []
    },
    {
      "cell_type": "code",
      "metadata": {
        "application/vnd.databricks.v1+cell": {
          "title": "",
          "showTitle": false,
          "inputWidgets": {},
          "nuid": "d16883f0-2478-4d66-8cdb-5b16291f5409"
        },
        "id": "3ynpAkhh17Dh"
      },
      "source": [
        "fire_df = spark.read.csv(sf_fire_file, header=True, schema=fire_schema)"
      ],
      "execution_count": null,
      "outputs": []
    },
    {
      "cell_type": "markdown",
      "metadata": {
        "application/vnd.databricks.v1+cell": {
          "title": "",
          "showTitle": false,
          "inputWidgets": {},
          "nuid": "6c4229bd-bc0a-4725-b27b-71020e3a0763"
        },
        "id": "APn6tUif17Dj"
      },
      "source": [
        "# First look at the data"
      ]
    },
    {
      "cell_type": "markdown",
      "metadata": {
        "application/vnd.databricks.v1+cell": {
          "title": "",
          "showTitle": false,
          "inputWidgets": {},
          "nuid": "f5b965fa-ade1-4233-b14a-e97941f64d40"
        },
        "id": "c5Qg-ukK17Dj"
      },
      "source": [
        "Let's have a first look at the data using `show()`:"
      ]
    },
    {
      "cell_type": "code",
      "metadata": {
        "application/vnd.databricks.v1+cell": {
          "title": "",
          "showTitle": false,
          "inputWidgets": {},
          "nuid": "5bb5e8d6-dd9f-4a30-9649-10eb3d0ae71d"
        },
        "id": "TfQFwudm17Dk",
        "outputId": "d43d9111-742d-434d-b26f-39377fdfd8f5",
        "colab": {
          "base_uri": "https://localhost:8080/",
          "height": 479
        }
      },
      "source": [
        "fire_df.show()"
      ],
      "execution_count": null,
      "outputs": [
        {
          "output_type": "stream",
          "text": [
            "+----------+------+--------------+----------------+----------+----------+--------------------+--------------------+--------------------+----+-------+---------+-----------+----+----------------+--------+-------------+-------+-------------+---------+--------------+--------------------------+----------------------+------------------+--------------------+--------------------+-------------+---------+\n",
            "|CallNumber|UnitID|IncidentNumber|        CallType|  CallDate| WatchDate|CallFinalDisposition|       AvailableDtTm|             Address|City|Zipcode|Battalion|StationArea| Box|OriginalPriority|Priority|FinalPriority|ALSUnit|CallTypeGroup|NumAlarms|      UnitType|UnitSequenceInCallDispatch|FirePreventionDistrict|SupervisorDistrict|        Neighborhood|            Location|        RowID|    Delay|\n",
            "+----------+------+--------------+----------------+----------+----------+--------------------+--------------------+--------------------+----+-------+---------+-----------+----+----------------+--------+-------------+-------+-------------+---------+--------------+--------------------------+----------------------+------------------+--------------------+--------------------+-------------+---------+\n",
            "|  20110016|   T13|       2003235|  Structure Fire|01/11/2002|01/10/2002|               Other|01/11/2002 01:51:...|2000 Block of CAL...|  SF|  94109|      B04|         38|3362|               3|       3|            3|  false|         null|        1|         TRUCK|                         2|                     4|                 5|     Pacific Heights|(37.7895840679362...|020110016-T13|     2.95|\n",
            "|  20110022|   M17|       2003241|Medical Incident|01/11/2002|01/10/2002|               Other|01/11/2002 03:01:...|0 Block of SILVER...|  SF|  94124|      B10|         42|6495|               3|       3|            3|   true|         null|        1|         MEDIC|                         1|                    10|                10|Bayview Hunters P...|(37.7337623673897...|020110022-M17|      4.7|\n",
            "|  20110023|   M41|       2003242|Medical Incident|01/11/2002|01/10/2002|               Other|01/11/2002 02:39:...|MARKET ST/MCALLIS...|  SF|  94102|      B03|         01|1455|               3|       3|            3|   true|         null|        1|         MEDIC|                         2|                     3|                 6|          Tenderloin|(37.7811772186856...|020110023-M41|2.4333334|\n",
            "|  20110032|   E11|       2003250|    Vehicle Fire|01/11/2002|01/10/2002|               Other|01/11/2002 04:16:...|APPLETON AV/MISSI...|  SF|  94110|      B06|         32|5626|               3|       3|            3|  false|         null|        1|        ENGINE|                         1|                     6|                 9|      Bernal Heights|(37.7388432849018...|020110032-E11|      1.5|\n",
            "|  20110043|   B04|       2003259|          Alarms|01/11/2002|01/10/2002|               Other|01/11/2002 06:01:...|1400 Block of SUT...|  SF|  94109|      B04|         03|3223|               3|       3|            3|  false|         null|        1|         CHIEF|                         2|                     4|                 2|    Western Addition|(37.7872890372638...|020110043-B04|3.4833333|\n",
            "|  20110072|   T08|       2003279|  Structure Fire|01/11/2002|01/11/2002|               Other|01/11/2002 08:03:...|  BEALE ST/FOLSOM ST|  SF|  94105|      B03|         35|2122|               3|       3|            3|  false|         null|        1|         TRUCK|                         2|                     3|                 6|Financial Distric...|(37.7886866619654...|020110072-T08|     1.75|\n",
            "|  20110125|   E33|       2003301|          Alarms|01/11/2002|01/11/2002|               Other|01/11/2002 09:46:...|0 Block of FARALL...|  SF|  94112|      B09|         33|8324|               3|       3|            3|  false|         null|        1|        ENGINE|                         2|                     9|                11|Oceanview/Merced/...|(37.7140353531157...|020110125-E33|2.7166667|\n",
            "|  20110130|   E36|       2003304|          Alarms|01/11/2002|01/11/2002|               Other|01/11/2002 09:58:...|600 Block of POLK ST|  SF|  94102|      B02|         03|3114|               3|       3|            3|  false|         null|        1|        ENGINE|                         1|                     2|                 6|          Tenderloin|(37.7826266328595...|020110130-E36|1.7833333|\n",
            "|  20110197|   E05|       2003343|Medical Incident|01/11/2002|01/11/2002|               Other|01/11/2002 12:06:...|1500 Block of WEB...|  SF|  94115|      B04|         05|3513|               3|       3|            3|  false|         null|        1|        ENGINE|                         1|                     4|                 5|           Japantown|(37.784958590666,...|020110197-E05|1.5166667|\n",
            "|  20110215|   E06|       2003348|Medical Incident|01/11/2002|01/11/2002|               Other|01/11/2002 01:08:...|DIAMOND ST/MARKET ST|  SF|  94114|      B05|         06|5415|               3|       3|            3|  false|         null|        1|        ENGINE|                         1|                     5|                 8| Castro/Upper Market|(37.7618954753708...|020110215-E06|2.7666667|\n",
            "|  20110274|   M07|       2003381|Medical Incident|01/11/2002|01/11/2002|               Other|01/11/2002 03:31:...|2700 Block of MIS...|  SF|  94110|      B06|         11|5525|               1|       1|            2|   true|         null|        1|         MEDIC|                         1|                     6|                 9|             Mission|(37.7530339738059...|020110274-M07|2.1833334|\n",
            "|  20110275|   T15|       2003382|  Structure Fire|01/11/2002|01/11/2002|               Other|01/11/2002 02:59:...|BRUNSWICK ST/GUTT...|  SF|  94112|      B09|         43|6218|               3|       3|            3|  false|         null|        1|         TRUCK|                         1|                     9|                11|           Excelsior|(37.7105545807996...|020110275-T15|      2.5|\n",
            "|  20110304|   E03|       2003399|Medical Incident|01/11/2002|01/11/2002|               Other|01/11/2002 04:22:...|1000 Block of SUT...|  SF|  94109|      B04|         03|1557|               3|       3|            3|  false|         null|        1|        ENGINE|                         1|                     4|                 3|            Nob Hill|(37.7881263034393...|020110304-E03|2.4166667|\n",
            "|  20110308|   E14|       2003403|Medical Incident|01/11/2002|01/11/2002|               Other|01/11/2002 04:18:...|100 Block of 21ST...|  SF|  94121|      B07|         14|7173|               3|       3|            3|  false|         null|        1|        ENGINE|                         1|                     7|                 1|      Outer Richmond|(37.7850084431077...|020110308-E14|     4.95|\n",
            "|  20110313|   B10|       2003408|  Structure Fire|01/11/2002|01/11/2002|               Other|01/11/2002 04:09:...|700 Block of CAPP ST|  SF|  94110|      B06|         07|5472|               3|       3|            3|  false|         null|        1|         CHIEF|                         6|                     6|                 9|             Mission|(37.7547064357942...|020110313-B10|1.4166666|\n",
            "|  20110313|    D3|       2003408|  Structure Fire|01/11/2002|01/11/2002|               Other|01/11/2002 04:09:...|700 Block of CAPP ST|  SF|  94110|      B06|         07|5472|               3|       3|            3|  false|         null|        1|         CHIEF|                         4|                     6|                 9|             Mission|(37.7547064357942...| 020110313-D3|2.5333333|\n",
            "|  20110313|   E32|       2003408|  Structure Fire|01/11/2002|01/11/2002|               Other|01/11/2002 04:09:...|700 Block of CAPP ST|  SF|  94110|      B06|         07|5472|               3|       3|            3|   true|         null|        1|        ENGINE|                         8|                     6|                 9|             Mission|(37.7547064357942...|020110313-E32|1.8833333|\n",
            "|  20110315|   RC2|       2003409|Medical Incident|01/11/2002|01/11/2002|               Other|01/11/2002 04:34:...|200 Block of LAGU...|  SF|  94116|      B08|         20|8635|               3|       3|            3|   true|         null|        1|RESCUE CAPTAIN|                         2|                     8|                 7|  West of Twin Peaks|(37.7501117393668...|020110315-RC2|     5.35|\n",
            "|  20110330|   E14|       2003417|Medical Incident|01/11/2002|01/11/2002|               Other|01/11/2002 04:51:...|BALBOA ST/PARK PR...|  SF|  94118|      B07|         31|7145|               3|       3|            3|  false|         null|        1|        ENGINE|                         1|                     7|                 1|      Inner Richmond|(37.7768682293368...|020110330-E14|      2.0|\n",
            "|  20110330|   M12|       2003417|Medical Incident|01/11/2002|01/11/2002|               Other|01/11/2002 04:51:...|BALBOA ST/PARK PR...|  SF|  94118|      B07|         31|7145|               3|       3|            3|   true|         null|        1|         MEDIC|                         2|                     7|                 1|      Inner Richmond|(37.7768682293368...|020110330-M12|1.8166667|\n",
            "+----------+------+--------------+----------------+----------+----------+--------------------+--------------------+--------------------+----+-------+---------+-----------+----+----------------+--------+-------------+-------+-------------+---------+--------------+--------------------------+----------------------+------------------+--------------------+--------------------+-------------+---------+\n",
            "only showing top 20 rows\n",
            "\n"
          ],
          "name": "stdout"
        }
      ]
    },
    {
      "cell_type": "markdown",
      "metadata": {
        "application/vnd.databricks.v1+cell": {
          "title": "",
          "showTitle": false,
          "inputWidgets": {},
          "nuid": "49e50dad-4d33-4181-ad40-f619da2ee325"
        },
        "id": "WVKyOs4817Dm"
      },
      "source": [
        "If you want a prettier visualisation, you can use `toPandas()`:"
      ]
    },
    {
      "cell_type": "code",
      "metadata": {
        "application/vnd.databricks.v1+cell": {
          "title": "",
          "showTitle": false,
          "inputWidgets": {},
          "nuid": "5b6c362d-dec3-42fd-9028-f93916f1c6c9"
        },
        "id": "rTWH-0X617Dm",
        "outputId": "bce7a657-caeb-45a8-933e-228783f9ccd5",
        "colab": {
          "base_uri": "https://localhost:8080/",
          "height": 326
        }
      },
      "source": [
        "fire_df.limit(10).toPandas().head(5)"
      ],
      "execution_count": null,
      "outputs": [
        {
          "output_type": "execute_result",
          "data": {
            "text/html": [
              "<div>\n",
              "<style scoped>\n",
              "    .dataframe tbody tr th:only-of-type {\n",
              "        vertical-align: middle;\n",
              "    }\n",
              "\n",
              "    .dataframe tbody tr th {\n",
              "        vertical-align: top;\n",
              "    }\n",
              "\n",
              "    .dataframe thead th {\n",
              "        text-align: right;\n",
              "    }\n",
              "</style>\n",
              "<table border=\"1\" class=\"dataframe\">\n",
              "  <thead>\n",
              "    <tr style=\"text-align: right;\">\n",
              "      <th></th>\n",
              "      <th>CallNumber</th>\n",
              "      <th>UnitID</th>\n",
              "      <th>IncidentNumber</th>\n",
              "      <th>CallType</th>\n",
              "      <th>CallDate</th>\n",
              "      <th>WatchDate</th>\n",
              "      <th>CallFinalDisposition</th>\n",
              "      <th>AvailableDtTm</th>\n",
              "      <th>Address</th>\n",
              "      <th>City</th>\n",
              "      <th>Zipcode</th>\n",
              "      <th>Battalion</th>\n",
              "      <th>StationArea</th>\n",
              "      <th>Box</th>\n",
              "      <th>OriginalPriority</th>\n",
              "      <th>Priority</th>\n",
              "      <th>FinalPriority</th>\n",
              "      <th>ALSUnit</th>\n",
              "      <th>CallTypeGroup</th>\n",
              "      <th>NumAlarms</th>\n",
              "      <th>UnitType</th>\n",
              "      <th>UnitSequenceInCallDispatch</th>\n",
              "      <th>FirePreventionDistrict</th>\n",
              "      <th>SupervisorDistrict</th>\n",
              "      <th>Neighborhood</th>\n",
              "      <th>Location</th>\n",
              "      <th>RowID</th>\n",
              "      <th>Delay</th>\n",
              "    </tr>\n",
              "  </thead>\n",
              "  <tbody>\n",
              "    <tr>\n",
              "      <th>0</th>\n",
              "      <td>20110016</td>\n",
              "      <td>T13</td>\n",
              "      <td>2003235</td>\n",
              "      <td>Structure Fire</td>\n",
              "      <td>01/11/2002</td>\n",
              "      <td>01/10/2002</td>\n",
              "      <td>Other</td>\n",
              "      <td>01/11/2002 01:51:44 AM</td>\n",
              "      <td>2000 Block of CALIFORNIA ST</td>\n",
              "      <td>SF</td>\n",
              "      <td>94109</td>\n",
              "      <td>B04</td>\n",
              "      <td>38</td>\n",
              "      <td>3362</td>\n",
              "      <td>3</td>\n",
              "      <td>3</td>\n",
              "      <td>3</td>\n",
              "      <td>False</td>\n",
              "      <td>None</td>\n",
              "      <td>1</td>\n",
              "      <td>TRUCK</td>\n",
              "      <td>2</td>\n",
              "      <td>4</td>\n",
              "      <td>5</td>\n",
              "      <td>Pacific Heights</td>\n",
              "      <td>(37.7895840679362, -122.428071912459)</td>\n",
              "      <td>020110016-T13</td>\n",
              "      <td>2.950000</td>\n",
              "    </tr>\n",
              "    <tr>\n",
              "      <th>1</th>\n",
              "      <td>20110022</td>\n",
              "      <td>M17</td>\n",
              "      <td>2003241</td>\n",
              "      <td>Medical Incident</td>\n",
              "      <td>01/11/2002</td>\n",
              "      <td>01/10/2002</td>\n",
              "      <td>Other</td>\n",
              "      <td>01/11/2002 03:01:18 AM</td>\n",
              "      <td>0 Block of SILVERVIEW DR</td>\n",
              "      <td>SF</td>\n",
              "      <td>94124</td>\n",
              "      <td>B10</td>\n",
              "      <td>42</td>\n",
              "      <td>6495</td>\n",
              "      <td>3</td>\n",
              "      <td>3</td>\n",
              "      <td>3</td>\n",
              "      <td>True</td>\n",
              "      <td>None</td>\n",
              "      <td>1</td>\n",
              "      <td>MEDIC</td>\n",
              "      <td>1</td>\n",
              "      <td>10</td>\n",
              "      <td>10</td>\n",
              "      <td>Bayview Hunters Point</td>\n",
              "      <td>(37.7337623673897, -122.396113802632)</td>\n",
              "      <td>020110022-M17</td>\n",
              "      <td>4.700000</td>\n",
              "    </tr>\n",
              "    <tr>\n",
              "      <th>2</th>\n",
              "      <td>20110023</td>\n",
              "      <td>M41</td>\n",
              "      <td>2003242</td>\n",
              "      <td>Medical Incident</td>\n",
              "      <td>01/11/2002</td>\n",
              "      <td>01/10/2002</td>\n",
              "      <td>Other</td>\n",
              "      <td>01/11/2002 02:39:50 AM</td>\n",
              "      <td>MARKET ST/MCALLISTER ST</td>\n",
              "      <td>SF</td>\n",
              "      <td>94102</td>\n",
              "      <td>B03</td>\n",
              "      <td>01</td>\n",
              "      <td>1455</td>\n",
              "      <td>3</td>\n",
              "      <td>3</td>\n",
              "      <td>3</td>\n",
              "      <td>True</td>\n",
              "      <td>None</td>\n",
              "      <td>1</td>\n",
              "      <td>MEDIC</td>\n",
              "      <td>2</td>\n",
              "      <td>3</td>\n",
              "      <td>6</td>\n",
              "      <td>Tenderloin</td>\n",
              "      <td>(37.7811772186856, -122.411699931232)</td>\n",
              "      <td>020110023-M41</td>\n",
              "      <td>2.433333</td>\n",
              "    </tr>\n",
              "    <tr>\n",
              "      <th>3</th>\n",
              "      <td>20110032</td>\n",
              "      <td>E11</td>\n",
              "      <td>2003250</td>\n",
              "      <td>Vehicle Fire</td>\n",
              "      <td>01/11/2002</td>\n",
              "      <td>01/10/2002</td>\n",
              "      <td>Other</td>\n",
              "      <td>01/11/2002 04:16:46 AM</td>\n",
              "      <td>APPLETON AV/MISSION ST</td>\n",
              "      <td>SF</td>\n",
              "      <td>94110</td>\n",
              "      <td>B06</td>\n",
              "      <td>32</td>\n",
              "      <td>5626</td>\n",
              "      <td>3</td>\n",
              "      <td>3</td>\n",
              "      <td>3</td>\n",
              "      <td>False</td>\n",
              "      <td>None</td>\n",
              "      <td>1</td>\n",
              "      <td>ENGINE</td>\n",
              "      <td>1</td>\n",
              "      <td>6</td>\n",
              "      <td>9</td>\n",
              "      <td>Bernal Heights</td>\n",
              "      <td>(37.7388432849018, -122.423948785199)</td>\n",
              "      <td>020110032-E11</td>\n",
              "      <td>1.500000</td>\n",
              "    </tr>\n",
              "    <tr>\n",
              "      <th>4</th>\n",
              "      <td>20110043</td>\n",
              "      <td>B04</td>\n",
              "      <td>2003259</td>\n",
              "      <td>Alarms</td>\n",
              "      <td>01/11/2002</td>\n",
              "      <td>01/10/2002</td>\n",
              "      <td>Other</td>\n",
              "      <td>01/11/2002 06:01:58 AM</td>\n",
              "      <td>1400 Block of SUTTER ST</td>\n",
              "      <td>SF</td>\n",
              "      <td>94109</td>\n",
              "      <td>B04</td>\n",
              "      <td>03</td>\n",
              "      <td>3223</td>\n",
              "      <td>3</td>\n",
              "      <td>3</td>\n",
              "      <td>3</td>\n",
              "      <td>False</td>\n",
              "      <td>None</td>\n",
              "      <td>1</td>\n",
              "      <td>CHIEF</td>\n",
              "      <td>2</td>\n",
              "      <td>4</td>\n",
              "      <td>2</td>\n",
              "      <td>Western Addition</td>\n",
              "      <td>(37.7872890372638, -122.424236212664)</td>\n",
              "      <td>020110043-B04</td>\n",
              "      <td>3.483333</td>\n",
              "    </tr>\n",
              "  </tbody>\n",
              "</table>\n",
              "</div>"
            ],
            "text/plain": [
              "   CallNumber UnitID  ...          RowID     Delay\n",
              "0    20110016    T13  ...  020110016-T13  2.950000\n",
              "1    20110022    M17  ...  020110022-M17  4.700000\n",
              "2    20110023    M41  ...  020110023-M41  2.433333\n",
              "3    20110032    E11  ...  020110032-E11  1.500000\n",
              "4    20110043    B04  ...  020110043-B04  3.483333\n",
              "\n",
              "[5 rows x 28 columns]"
            ]
          },
          "metadata": {
            "tags": []
          },
          "execution_count": 7
        }
      ]
    },
    {
      "cell_type": "markdown",
      "metadata": {
        "application/vnd.databricks.v1+cell": {
          "title": "",
          "showTitle": false,
          "inputWidgets": {},
          "nuid": "c903e585-25cc-4d60-b1a6-1dd96c5ba752"
        },
        "id": "y4_VVt3z17Dp"
      },
      "source": [
        "In **databricks**, you can also use `display`."
      ]
    },
    {
      "cell_type": "code",
      "metadata": {
        "application/vnd.databricks.v1+cell": {
          "title": "",
          "showTitle": false,
          "inputWidgets": {},
          "nuid": "2b5baa51-4cc5-494f-ae50-814d84f99b2b"
        },
        "id": "Fl_-L6gR17Dp",
        "outputId": "8ccae706-c5b3-4530-bfd1-ca7ce640037c",
        "colab": {
          "base_uri": "https://localhost:8080/",
          "height": 54
        }
      },
      "source": [
        "display(fire_df.limit(5))"
      ],
      "execution_count": null,
      "outputs": [
        {
          "output_type": "display_data",
          "data": {
            "text/plain": [
              "DataFrame[CallNumber: int, UnitID: string, IncidentNumber: int, CallType: string, CallDate: string, WatchDate: string, CallFinalDisposition: string, AvailableDtTm: string, Address: string, City: string, Zipcode: int, Battalion: string, StationArea: string, Box: string, OriginalPriority: string, Priority: string, FinalPriority: int, ALSUnit: boolean, CallTypeGroup: string, NumAlarms: int, UnitType: string, UnitSequenceInCallDispatch: int, FirePreventionDistrict: string, SupervisorDistrict: string, Neighborhood: string, Location: string, RowID: string, Delay: float]"
            ]
          },
          "metadata": {
            "tags": []
          }
        }
      ]
    },
    {
      "cell_type": "markdown",
      "metadata": {
        "application/vnd.databricks.v1+cell": {
          "title": "",
          "showTitle": false,
          "inputWidgets": {},
          "nuid": "b7b2105d-7a86-44fb-b02c-e8cd685a92bc"
        },
        "id": "2sW7KWfc17Dr"
      },
      "source": [
        "# Count rows"
      ]
    },
    {
      "cell_type": "markdown",
      "metadata": {
        "application/vnd.databricks.v1+cell": {
          "title": "",
          "showTitle": false,
          "inputWidgets": {},
          "nuid": "87dcd816-a95e-4ea8-89d0-a998e2baa98d"
        },
        "id": "jEurn5Pb17Ds"
      },
      "source": [
        "Let's see how long it takes to count the rows in our dataset. \n",
        "\n",
        "From here onwards, I'll report results concerning the entire, 4 million row dataset. If you are running this on Colab with the sample data, the numbers will be different. But the general points hold regardless."
      ]
    },
    {
      "cell_type": "code",
      "metadata": {
        "application/vnd.databricks.v1+cell": {
          "title": "",
          "showTitle": false,
          "inputWidgets": {},
          "nuid": "153a2b8b-117a-4e05-a7e8-a7bb5676b82a"
        },
        "id": "9cTG_Inh17Ds",
        "outputId": "ca896e13-ec22-405e-8196-ef4d66d07ef5",
        "colab": {
          "base_uri": "https://localhost:8080/",
          "height": 34
        }
      },
      "source": [
        "fire_df.count()\n",
        "%timeit fire_df.count()"
      ],
      "execution_count": null,
      "outputs": [
        {
          "output_type": "stream",
          "text": [
            "1 loop, best of 3: 279 ms per loop\n"
          ],
          "name": "stdout"
        }
      ]
    },
    {
      "cell_type": "markdown",
      "metadata": {
        "application/vnd.databricks.v1+cell": {
          "title": "",
          "showTitle": false,
          "inputWidgets": {},
          "nuid": "603a1d47-269a-4e55-a2ba-65246235cef3"
        },
        "id": "J3Jn4gj417Du"
      },
      "source": [
        "* It takes around 20 seconds.  \n",
        "* If we continue to re-run this query, it will continue to take roughly 20 seconds. Why?\n",
        "* **RDDs are not cached in memory by default**. When an uncached RDD is needed again, it must be recomputed. \n",
        "* When you run the ``count`` a second time, the file will be read, partitioned, loaded by the executors, and counted again. \n",
        "* **Caching/persisting data keeps it in the executor's memory**,  ensuring that processing done previously is preserved and **can be reused**.\n",
        "* Important when the data will be accessed repeatedly, e.g., in iterative algorithms (ML)."
      ]
    },
    {
      "cell_type": "markdown",
      "metadata": {
        "application/vnd.databricks.v1+cell": {
          "title": "",
          "showTitle": false,
          "inputWidgets": {},
          "nuid": "d2e25425-e18d-4f91-872a-a0d191fed81d"
        },
        "id": "owOWSERk17Du"
      },
      "source": [
        "# Caching"
      ]
    },
    {
      "cell_type": "markdown",
      "metadata": {
        "application/vnd.databricks.v1+cell": {
          "title": "",
          "showTitle": false,
          "inputWidgets": {},
          "nuid": "629bb3cb-f944-4717-bb79-0b19501597be"
        },
        "id": "DZyEClco17Dv"
      },
      "source": [
        "Let's cache the DataFrame since we will be performing several operations on it."
      ]
    },
    {
      "cell_type": "code",
      "metadata": {
        "application/vnd.databricks.v1+cell": {
          "title": "",
          "showTitle": false,
          "inputWidgets": {},
          "nuid": "ba7b093a-e0d0-45aa-a7c5-e0e0eaca8b3c"
        },
        "id": "80Bm0uQo17Dv",
        "outputId": "d98751ff-e4fa-45d2-b817-5222639508e8",
        "colab": {
          "base_uri": "https://localhost:8080/",
          "height": 54
        }
      },
      "source": [
        "fire_df.cache()"
      ],
      "execution_count": null,
      "outputs": [
        {
          "output_type": "execute_result",
          "data": {
            "text/plain": [
              "DataFrame[CallNumber: int, UnitID: string, IncidentNumber: int, CallType: string, CallDate: string, WatchDate: string, CallFinalDisposition: string, AvailableDtTm: string, Address: string, City: string, Zipcode: int, Battalion: string, StationArea: string, Box: string, OriginalPriority: string, Priority: string, FinalPriority: int, ALSUnit: boolean, CallTypeGroup: string, NumAlarms: int, UnitType: string, UnitSequenceInCallDispatch: int, FirePreventionDistrict: string, SupervisorDistrict: string, Neighborhood: string, Location: string, RowID: string, Delay: float]"
            ]
          },
          "metadata": {
            "tags": []
          },
          "execution_count": 15
        }
      ]
    },
    {
      "cell_type": "markdown",
      "metadata": {
        "application/vnd.databricks.v1+cell": {
          "title": "",
          "showTitle": false,
          "inputWidgets": {},
          "nuid": "8840fede-559f-4037-a37c-c4b461d9e5fb"
        },
        "id": "jyY_eUrT17Dx"
      },
      "source": [
        "* Cache is a lazy operation. \n",
        "* The DataFrame is not fully cached until you invoke an action that goes through every row.\n",
        "* The common idiom to trigger the caching of the entire dataset is to execute count since it's fairly cheap."
      ]
    },
    {
      "cell_type": "code",
      "metadata": {
        "application/vnd.databricks.v1+cell": {
          "title": "",
          "showTitle": false,
          "inputWidgets": {},
          "nuid": "9663ac34-baaf-4526-bb20-530247ed208f"
        },
        "id": "FnqBCX2Y17Dx",
        "outputId": "37136b20-2003-40b4-f9e7-aab03667ed47",
        "colab": {
          "base_uri": "https://localhost:8080/",
          "height": 34
        }
      },
      "source": [
        "fire_df.count()"
      ],
      "execution_count": null,
      "outputs": [
        {
          "output_type": "execute_result",
          "data": {
            "text/plain": [
              "175296"
            ]
          },
          "metadata": {
            "tags": []
          },
          "execution_count": 16
        }
      ]
    },
    {
      "cell_type": "markdown",
      "metadata": {
        "application/vnd.databricks.v1+cell": {
          "title": "",
          "showTitle": false,
          "inputWidgets": {},
          "nuid": "1f35fa68-b577-4675-8d43-2d4753eb5651"
        },
        "id": "yi4LfU6e17Dz"
      },
      "source": [
        "* That's taking quite a while!\n",
        "* What's happening, as we cache this table, is that we're loading all of our data onto the memory of the executors. It's around 1GB of data.\n",
        "* That actually takes much longer than just counting the data itself.\n",
        "* Let's see how long it takes to perform the count now."
      ]
    },
    {
      "cell_type": "code",
      "metadata": {
        "application/vnd.databricks.v1+cell": {
          "title": "",
          "showTitle": false,
          "inputWidgets": {},
          "nuid": "551aaff5-d3d3-4348-b1ba-8a9fc56da11e"
        },
        "id": "hF1TVZJu17D0",
        "outputId": "3872de2c-c20a-4319-be1d-ede2974e99ab",
        "colab": {
          "base_uri": "https://localhost:8080/",
          "height": 34
        }
      },
      "source": [
        "fire_df.count()\n",
        "%timeit fire_df.count()"
      ],
      "execution_count": null,
      "outputs": [
        {
          "output_type": "stream",
          "text": [
            "10 loops, best of 3: 69.9 ms per loop\n"
          ],
          "name": "stdout"
        }
      ]
    },
    {
      "cell_type": "markdown",
      "metadata": {
        "application/vnd.databricks.v1+cell": {
          "title": "",
          "showTitle": false,
          "inputWidgets": {},
          "nuid": "36ced5c9-8c31-40f3-abaf-e45d66f0cdea"
        },
        "id": "tJDy3Msu17D1"
      },
      "source": [
        "* That was significantly faster\n",
        "* Let's have a look at the Spark UI storage tab.\n",
        "  * If you are running this on Colab and want to check the actual Spark UI, set up a tunnel like we did last week.\n",
        "  * Otherwise, check out the screenshots provided below."
      ]
    },
    {
      "cell_type": "markdown",
      "metadata": {
        "application/vnd.databricks.v1+cell": {
          "title": "",
          "showTitle": false,
          "inputWidgets": {},
          "nuid": "97816e8f-2a12-400e-9046-8e307596d99c"
        },
        "id": "K6IFLfbc17D2"
      },
      "source": [
        "Some things to notice:\n",
        "\n",
        "* The cached data **takes up less space** than our file on disk! That is due to the **Tungsten Optimizer**. You can learn more about Tungsten from Josh Rosen's [talk](https://www.youtube.com/watch?v=5ajs8EIPWGI&ab_channel=SparkSummit) at Spark Summit.\n",
        "* The data is 100% cached, broken down into **9 partitions**.\n",
        "* The data is **deserialised**. This makes it much faster to query later on because we don't pay the cost of deserialising it. But it will take up more space than the corresponding serialised data. (Trade-off between access speed and memory-efficiency)\n",
        "<img src=\"https://i.ibb.co/w4VZt2g/ui-storage.png\" alt=\"ui-storage\" width=\"1190\" height=\"770\" data-load=\"full\" style=\"\">"
      ]
    },
    {
      "cell_type": "markdown",
      "metadata": {
        "application/vnd.databricks.v1+cell": {
          "title": "",
          "showTitle": false,
          "inputWidgets": {},
          "nuid": "ecd9f028-bfec-44c6-8d18-46bfd47f62be"
        },
        "id": "YWLqNaoU17D2"
      },
      "source": [
        "## Benefits of caching\n",
        "\n",
        "* Reading data from source storage systems (hdfs://, s3://) is time consuming.\n",
        "* If you don’t have enough memory data will be cached at the local disk of executors, which will still be faster than reading from the source.\n",
        "* By caching you create a checkpoint in your spark application and if further down the execution of the application any of the tasks fails, you will be able to recompute the lost RDD partition from the cache."
      ]
    },
    {
      "cell_type": "markdown",
      "metadata": {
        "application/vnd.databricks.v1+cell": {
          "title": "",
          "showTitle": false,
          "inputWidgets": {},
          "nuid": "ca544b39-56cc-4680-95e8-2e9e473c0ece"
        },
        "id": "Vq9Xig4i17D2"
      },
      "source": [
        "## Best practices when caching\n",
        "* **Unpersist the DataFrame after it is no longer needed using ``df.unpersist()``**. \n",
        " * If your storage memory becomes full, Spark will start evicting the data from memory using the LRU (least recently used) strategy. \n",
        " * To stay more in control about what should be evicted, use ``unpersist()``. \n",
        " * Moreover, the more space you have in memory, the more can Spark use for execution, as opposed to storing cached data.\n",
        "* **Only cache if you will use the data repeatedly. If you do, make sure you are caching only what you will need in your queries.**\n",
        " * For example, if one query will use ``(col1, col2, col3)`` and the second query will use ``(col2, col3, col4)``, select and cache these columns only: ``cached_df = df.select(col1, col2, col3, col4).cache()``"
      ]
    },
    {
      "cell_type": "markdown",
      "metadata": {
        "application/vnd.databricks.v1+cell": {
          "title": "",
          "showTitle": false,
          "inputWidgets": {},
          "nuid": "038f24cd-56a0-4504-8a62-8cd021970c8d"
        },
        "id": "99XRbPB517D3"
      },
      "source": [
        "## Comparison between different storage levels\n",
        "\n",
        "* Test run on the local machine with 12GB driver memory and input data of size 14GB. [Source](https://towardsdatascience.com/apache-spark-caching-603154173c48)\n",
        "* Graph below shows the run time of a `filter` + `count` query executed 10 times in a loop.\n",
        "\n",
        "\n",
        "\n",
        "<img src=\"https://miro.medium.com/max/700/1*bW7VO52Ht2kDvrdosEBpwQ.png\" alt=\"performance\" width=\"690\" height=\"350\" data-load=\"full\" style=\"\">"
      ]
    },
    {
      "cell_type": "markdown",
      "metadata": {
        "application/vnd.databricks.v1+cell": {
          "title": "",
          "showTitle": false,
          "inputWidgets": {},
          "nuid": "b2f55897-4f47-4cdd-bc9b-566112fb96a0"
        },
        "id": "ze8Mz-MQ17D3"
      },
      "source": [
        "# Let's run some queries"
      ]
    },
    {
      "cell_type": "markdown",
      "metadata": {
        "application/vnd.databricks.v1+cell": {
          "title": "",
          "showTitle": false,
          "inputWidgets": {},
          "nuid": "f7b1bcb4-f0af-45e0-abe5-4f2cff9f4369"
        },
        "id": "pOUQRj1p17D3"
      },
      "source": [
        "Let's recall how the data looks like:"
      ]
    },
    {
      "cell_type": "code",
      "metadata": {
        "application/vnd.databricks.v1+cell": {
          "title": "",
          "showTitle": false,
          "inputWidgets": {},
          "nuid": "9add8ff9-37ff-4f9d-be5c-c6a49d1536bd"
        },
        "id": "WGWNyC7K17D4",
        "outputId": "7d868c96-fe82-4ca2-b4f1-daf521244429",
        "colab": {
          "base_uri": "https://localhost:8080/",
          "height": 479
        }
      },
      "source": [
        "# use show() if you are running on Colab\n",
        "display(fire_df)\n",
        "#fire_df.show()"
      ],
      "execution_count": null,
      "outputs": [
        {
          "output_type": "stream",
          "text": [
            "+----------+------+--------------+----------------+----------+----------+--------------------+--------------------+--------------------+----+-------+---------+-----------+----+----------------+--------+-------------+-------+-------------+---------+--------------+--------------------------+----------------------+------------------+--------------------+--------------------+-------------+---------+\n",
            "|CallNumber|UnitID|IncidentNumber|        CallType|  CallDate| WatchDate|CallFinalDisposition|       AvailableDtTm|             Address|City|Zipcode|Battalion|StationArea| Box|OriginalPriority|Priority|FinalPriority|ALSUnit|CallTypeGroup|NumAlarms|      UnitType|UnitSequenceInCallDispatch|FirePreventionDistrict|SupervisorDistrict|        Neighborhood|            Location|        RowID|    Delay|\n",
            "+----------+------+--------------+----------------+----------+----------+--------------------+--------------------+--------------------+----+-------+---------+-----------+----+----------------+--------+-------------+-------+-------------+---------+--------------+--------------------------+----------------------+------------------+--------------------+--------------------+-------------+---------+\n",
            "|  20110016|   T13|       2003235|  Structure Fire|01/11/2002|01/10/2002|               Other|01/11/2002 01:51:...|2000 Block of CAL...|  SF|  94109|      B04|         38|3362|               3|       3|            3|  false|         null|        1|         TRUCK|                         2|                     4|                 5|     Pacific Heights|(37.7895840679362...|020110016-T13|     2.95|\n",
            "|  20110022|   M17|       2003241|Medical Incident|01/11/2002|01/10/2002|               Other|01/11/2002 03:01:...|0 Block of SILVER...|  SF|  94124|      B10|         42|6495|               3|       3|            3|   true|         null|        1|         MEDIC|                         1|                    10|                10|Bayview Hunters P...|(37.7337623673897...|020110022-M17|      4.7|\n",
            "|  20110023|   M41|       2003242|Medical Incident|01/11/2002|01/10/2002|               Other|01/11/2002 02:39:...|MARKET ST/MCALLIS...|  SF|  94102|      B03|         01|1455|               3|       3|            3|   true|         null|        1|         MEDIC|                         2|                     3|                 6|          Tenderloin|(37.7811772186856...|020110023-M41|2.4333334|\n",
            "|  20110032|   E11|       2003250|    Vehicle Fire|01/11/2002|01/10/2002|               Other|01/11/2002 04:16:...|APPLETON AV/MISSI...|  SF|  94110|      B06|         32|5626|               3|       3|            3|  false|         null|        1|        ENGINE|                         1|                     6|                 9|      Bernal Heights|(37.7388432849018...|020110032-E11|      1.5|\n",
            "|  20110043|   B04|       2003259|          Alarms|01/11/2002|01/10/2002|               Other|01/11/2002 06:01:...|1400 Block of SUT...|  SF|  94109|      B04|         03|3223|               3|       3|            3|  false|         null|        1|         CHIEF|                         2|                     4|                 2|    Western Addition|(37.7872890372638...|020110043-B04|3.4833333|\n",
            "|  20110072|   T08|       2003279|  Structure Fire|01/11/2002|01/11/2002|               Other|01/11/2002 08:03:...|  BEALE ST/FOLSOM ST|  SF|  94105|      B03|         35|2122|               3|       3|            3|  false|         null|        1|         TRUCK|                         2|                     3|                 6|Financial Distric...|(37.7886866619654...|020110072-T08|     1.75|\n",
            "|  20110125|   E33|       2003301|          Alarms|01/11/2002|01/11/2002|               Other|01/11/2002 09:46:...|0 Block of FARALL...|  SF|  94112|      B09|         33|8324|               3|       3|            3|  false|         null|        1|        ENGINE|                         2|                     9|                11|Oceanview/Merced/...|(37.7140353531157...|020110125-E33|2.7166667|\n",
            "|  20110130|   E36|       2003304|          Alarms|01/11/2002|01/11/2002|               Other|01/11/2002 09:58:...|600 Block of POLK ST|  SF|  94102|      B02|         03|3114|               3|       3|            3|  false|         null|        1|        ENGINE|                         1|                     2|                 6|          Tenderloin|(37.7826266328595...|020110130-E36|1.7833333|\n",
            "|  20110197|   E05|       2003343|Medical Incident|01/11/2002|01/11/2002|               Other|01/11/2002 12:06:...|1500 Block of WEB...|  SF|  94115|      B04|         05|3513|               3|       3|            3|  false|         null|        1|        ENGINE|                         1|                     4|                 5|           Japantown|(37.784958590666,...|020110197-E05|1.5166667|\n",
            "|  20110215|   E06|       2003348|Medical Incident|01/11/2002|01/11/2002|               Other|01/11/2002 01:08:...|DIAMOND ST/MARKET ST|  SF|  94114|      B05|         06|5415|               3|       3|            3|  false|         null|        1|        ENGINE|                         1|                     5|                 8| Castro/Upper Market|(37.7618954753708...|020110215-E06|2.7666667|\n",
            "|  20110274|   M07|       2003381|Medical Incident|01/11/2002|01/11/2002|               Other|01/11/2002 03:31:...|2700 Block of MIS...|  SF|  94110|      B06|         11|5525|               1|       1|            2|   true|         null|        1|         MEDIC|                         1|                     6|                 9|             Mission|(37.7530339738059...|020110274-M07|2.1833334|\n",
            "|  20110275|   T15|       2003382|  Structure Fire|01/11/2002|01/11/2002|               Other|01/11/2002 02:59:...|BRUNSWICK ST/GUTT...|  SF|  94112|      B09|         43|6218|               3|       3|            3|  false|         null|        1|         TRUCK|                         1|                     9|                11|           Excelsior|(37.7105545807996...|020110275-T15|      2.5|\n",
            "|  20110304|   E03|       2003399|Medical Incident|01/11/2002|01/11/2002|               Other|01/11/2002 04:22:...|1000 Block of SUT...|  SF|  94109|      B04|         03|1557|               3|       3|            3|  false|         null|        1|        ENGINE|                         1|                     4|                 3|            Nob Hill|(37.7881263034393...|020110304-E03|2.4166667|\n",
            "|  20110308|   E14|       2003403|Medical Incident|01/11/2002|01/11/2002|               Other|01/11/2002 04:18:...|100 Block of 21ST...|  SF|  94121|      B07|         14|7173|               3|       3|            3|  false|         null|        1|        ENGINE|                         1|                     7|                 1|      Outer Richmond|(37.7850084431077...|020110308-E14|     4.95|\n",
            "|  20110313|   B10|       2003408|  Structure Fire|01/11/2002|01/11/2002|               Other|01/11/2002 04:09:...|700 Block of CAPP ST|  SF|  94110|      B06|         07|5472|               3|       3|            3|  false|         null|        1|         CHIEF|                         6|                     6|                 9|             Mission|(37.7547064357942...|020110313-B10|1.4166666|\n",
            "|  20110313|    D3|       2003408|  Structure Fire|01/11/2002|01/11/2002|               Other|01/11/2002 04:09:...|700 Block of CAPP ST|  SF|  94110|      B06|         07|5472|               3|       3|            3|  false|         null|        1|         CHIEF|                         4|                     6|                 9|             Mission|(37.7547064357942...| 020110313-D3|2.5333333|\n",
            "|  20110313|   E32|       2003408|  Structure Fire|01/11/2002|01/11/2002|               Other|01/11/2002 04:09:...|700 Block of CAPP ST|  SF|  94110|      B06|         07|5472|               3|       3|            3|   true|         null|        1|        ENGINE|                         8|                     6|                 9|             Mission|(37.7547064357942...|020110313-E32|1.8833333|\n",
            "|  20110315|   RC2|       2003409|Medical Incident|01/11/2002|01/11/2002|               Other|01/11/2002 04:34:...|200 Block of LAGU...|  SF|  94116|      B08|         20|8635|               3|       3|            3|   true|         null|        1|RESCUE CAPTAIN|                         2|                     8|                 7|  West of Twin Peaks|(37.7501117393668...|020110315-RC2|     5.35|\n",
            "|  20110330|   E14|       2003417|Medical Incident|01/11/2002|01/11/2002|               Other|01/11/2002 04:51:...|BALBOA ST/PARK PR...|  SF|  94118|      B07|         31|7145|               3|       3|            3|  false|         null|        1|        ENGINE|                         1|                     7|                 1|      Inner Richmond|(37.7768682293368...|020110330-E14|      2.0|\n",
            "|  20110330|   M12|       2003417|Medical Incident|01/11/2002|01/11/2002|               Other|01/11/2002 04:51:...|BALBOA ST/PARK PR...|  SF|  94118|      B07|         31|7145|               3|       3|            3|   true|         null|        1|         MEDIC|                         2|                     7|                 1|      Inner Richmond|(37.7768682293368...|020110330-M12|1.8166667|\n",
            "+----------+------+--------------+----------------+----------+----------+--------------------+--------------------+--------------------+----+-------+---------+-----------+----+----------------+--------+-------------+-------+-------------+---------+--------------+--------------------------+----------------------+------------------+--------------------+--------------------+-------------+---------+\n",
            "only showing top 20 rows\n",
            "\n"
          ],
          "name": "stdout"
        }
      ]
    },
    {
      "cell_type": "markdown",
      "metadata": {
        "application/vnd.databricks.v1+cell": {
          "title": "",
          "showTitle": false,
          "inputWidgets": {},
          "nuid": "71c9c834-90e8-46ec-b058-9f7925f00326"
        },
        "id": "VekXh4MG17D6"
      },
      "source": [
        "**Q-1) How many distinct types of calls were made to the Fire Department?**\n",
        "\n",
        "To be sure, let's not count \"null\" strings in that column."
      ]
    },
    {
      "cell_type": "code",
      "metadata": {
        "application/vnd.databricks.v1+cell": {
          "title": "",
          "showTitle": false,
          "inputWidgets": {},
          "nuid": "4a833de9-9d5a-400f-986e-a0fbf0c86344"
        },
        "id": "5eQWLBBo17D6",
        "outputId": "1d062cb2-c842-4c6c-bd23-9f4e3ec5ea88",
        "colab": {
          "base_uri": "https://localhost:8080/",
          "height": 34
        }
      },
      "source": [
        "fire_df.select(\"CallType\").where(col(\"CallType\").isNotNull()).distinct().count()"
      ],
      "execution_count": null,
      "outputs": [
        {
          "output_type": "execute_result",
          "data": {
            "text/plain": [
              "30"
            ]
          },
          "metadata": {
            "tags": []
          },
          "execution_count": 20
        }
      ]
    },
    {
      "cell_type": "markdown",
      "metadata": {
        "application/vnd.databricks.v1+cell": {
          "title": "",
          "showTitle": false,
          "inputWidgets": {},
          "nuid": "5a628fca-e7f6-42e5-bdb4-1718dc2f420e"
        },
        "id": "M0qmQqDQ17D8"
      },
      "source": [
        "**Q-2) What are distinct types of calls were made to the Fire Department?**\n",
        "\n",
        "These are all the distinct type of call to the SF Fire Department"
      ]
    },
    {
      "cell_type": "code",
      "metadata": {
        "application/vnd.databricks.v1+cell": {
          "title": "",
          "showTitle": false,
          "inputWidgets": {},
          "nuid": "d3f482e6-bdd1-412b-9c27-0f6ae011fdd9"
        },
        "id": "Q5btLW4-17D8",
        "outputId": "d320080a-bf10-4cd2-b21f-b4ffcea6c90a",
        "colab": {
          "base_uri": "https://localhost:8080/",
          "height": 612
        }
      },
      "source": [
        "fire_df.select(\"CallType\").where(col(\"CallType\").isNotNull()).distinct().show(32, False)"
      ],
      "execution_count": null,
      "outputs": [
        {
          "output_type": "stream",
          "text": [
            "+--------------------------------------------+\n",
            "|CallType                                    |\n",
            "+--------------------------------------------+\n",
            "|Elevator / Escalator Rescue                 |\n",
            "|Marine Fire                                 |\n",
            "|Aircraft Emergency                          |\n",
            "|Confined Space / Structure Collapse         |\n",
            "|Administrative                              |\n",
            "|Alarms                                      |\n",
            "|Odor (Strange / Unknown)                    |\n",
            "|Citizen Assist / Service Call               |\n",
            "|HazMat                                      |\n",
            "|Watercraft in Distress                      |\n",
            "|Explosion                                   |\n",
            "|Oil Spill                                   |\n",
            "|Vehicle Fire                                |\n",
            "|Suspicious Package                          |\n",
            "|Extrication / Entrapped (Machinery, Vehicle)|\n",
            "|Other                                       |\n",
            "|Outside Fire                                |\n",
            "|Traffic Collision                           |\n",
            "|Assist Police                               |\n",
            "|Gas Leak (Natural and LP Gases)             |\n",
            "|Water Rescue                                |\n",
            "|Electrical Hazard                           |\n",
            "|High Angle Rescue                           |\n",
            "|Structure Fire                              |\n",
            "|Industrial Accidents                        |\n",
            "|Medical Incident                            |\n",
            "|Mutual Aid / Assist Outside Agency          |\n",
            "|Fuel Spill                                  |\n",
            "|Smoke Investigation (Outside)               |\n",
            "|Train / Rail Incident                       |\n",
            "+--------------------------------------------+\n",
            "\n"
          ],
          "name": "stdout"
        }
      ]
    },
    {
      "cell_type": "markdown",
      "metadata": {
        "application/vnd.databricks.v1+cell": {
          "title": "",
          "showTitle": false,
          "inputWidgets": {},
          "nuid": "fd25949e-4e28-4133-8b90-d480a5aeba5a"
        },
        "id": "Fd401Ty817D-"
      },
      "source": [
        "**Q-3) What were the most common call types?**\n",
        "\n",
        "List them in descending order:"
      ]
    },
    {
      "cell_type": "code",
      "metadata": {
        "application/vnd.databricks.v1+cell": {
          "title": "",
          "showTitle": false,
          "inputWidgets": {},
          "nuid": "43176835-0ed7-4154-a3fb-659bb7de945c"
        },
        "id": "YFOkY4ek17D-",
        "outputId": "bdc79fec-b949-48b3-b5d8-94114aa03d02",
        "colab": {
          "base_uri": "https://localhost:8080/",
          "height": 289
        }
      },
      "source": [
        "(fire_df\n",
        " .select(\"CallType\").where(col(\"CallType\").isNotNull())\n",
        " .groupBy(\"CallType\")\n",
        " .count()\n",
        " .orderBy(\"count\", ascending=False)\n",
        " .show(n=10, truncate=False))"
      ],
      "execution_count": null,
      "outputs": [
        {
          "output_type": "stream",
          "text": [
            "+-------------------------------+------+\n",
            "|CallType                       |count |\n",
            "+-------------------------------+------+\n",
            "|Medical Incident               |113794|\n",
            "|Structure Fire                 |23319 |\n",
            "|Alarms                         |19406 |\n",
            "|Traffic Collision              |7013  |\n",
            "|Citizen Assist / Service Call  |2524  |\n",
            "|Other                          |2166  |\n",
            "|Outside Fire                   |2094  |\n",
            "|Vehicle Fire                   |854   |\n",
            "|Gas Leak (Natural and LP Gases)|764   |\n",
            "|Water Rescue                   |755   |\n",
            "+-------------------------------+------+\n",
            "only showing top 10 rows\n",
            "\n"
          ],
          "name": "stdout"
        }
      ]
    },
    {
      "cell_type": "code",
      "metadata": {
        "id": "GNLbNuTg9JO-"
      },
      "source": [
        "%timeit -n1 -r1 (fire_df.select(\"CallType\").where(col(\"CallType\").isNotNull()).groupBy(\"CallType\").count().orderBy(\"count\", ascending=False).show(n=10, truncate=False))"
      ],
      "execution_count": null,
      "outputs": []
    },
    {
      "cell_type": "markdown",
      "metadata": {
        "application/vnd.databricks.v1+cell": {
          "title": "",
          "showTitle": false,
          "inputWidgets": {},
          "nuid": "22e237d8-a276-4189-8651-4d02c2e45f2e"
        },
        "id": "S3V6Q9KW17EA"
      },
      "source": [
        "* The spawned job involves data shuffle\n",
        "* Let's look at the two stages on Spark UI. In particular, let's inspect the second stage.\n",
        "* **By default, Spark uses 200 tasks for a shuffle read**. So the resulting number of partitions 200. \n",
        "* It doesn't matter if your dataset is very large or very small. \n",
        "* Notice that some of the tasks are **not reading in any shuffle data**. Some partitions will contain no data.\n",
        "<img src=\"https://i.ibb.co/hspm1sb/ui-partitions.png\" alt=\"ui-partitions\" width=\"1193\" height=\"795\" data-load=\"full\" style=\"\">"
      ]
    },
    {
      "cell_type": "markdown",
      "metadata": {
        "application/vnd.databricks.v1+cell": {
          "title": "",
          "showTitle": false,
          "inputWidgets": {},
          "nuid": "7507ad8c-e8a7-4097-9ea2-d753fe32b518"
        },
        "id": "jpO6lvlO17EA"
      },
      "source": [
        "# Optimising Shuffle Partitions\n",
        "\n",
        "* The `spark.sql.shuffle.partitions` parameter controls how many partitions there are after a shuffle (wide transformation). \n",
        "* By default, this value is 200,  no matter  how large or small your dataset is, or your cluster configuration.\n",
        "* 200 may be too small for huge datasets, and too large for smaller ones.\n",
        "* One of the most commonly tuned parameters in Spark.\n",
        "* *Learning Spark*, ch. 7: \"*There is no magic formula for the number of shuffle partitions [...] the number may vary depending on your use case, data set, number of cores, and the amount of executor memory available—it’s a trial-and-error approach\".\n",
        "\n",
        "Generally speaking, the default value is too high for smaller or streaming workloads. Let's change this parameter to be 8."
      ]
    },
    {
      "cell_type": "markdown",
      "metadata": {
        "id": "SLzXoETP7oou"
      },
      "source": [
        "If you are using **databricks**, run the following:\n",
        "\n"
      ]
    },
    {
      "cell_type": "code",
      "metadata": {
        "application/vnd.databricks.v1+cell": {
          "title": "",
          "showTitle": false,
          "inputWidgets": {},
          "nuid": "bcc8d511-ef56-43c7-9443-07afb2081d1d"
        },
        "id": "XRHNoc-117EB"
      },
      "source": [
        "# Set number of shuffle partitions to 8\n",
        "sqlContext.setConf(\"spark.sql.shuffle.partitions\", \"8\")\n",
        "# Verify the setting \n",
        "sqlContext.getConf(\"spark.sql.shuffle.partitions\")"
      ],
      "execution_count": null,
      "outputs": []
    },
    {
      "cell_type": "markdown",
      "metadata": {
        "id": "3u8RFdgi7wWB"
      },
      "source": [
        "If you are using **Colab**, run the following:"
      ]
    },
    {
      "cell_type": "code",
      "metadata": {
        "id": "NVuG9tA77wjd",
        "outputId": "83cca94a-7f48-485a-e9bc-3555035c1e3f",
        "colab": {
          "base_uri": "https://localhost:8080/",
          "height": 35
        }
      },
      "source": [
        "# Set number of shuffle partitions to 8\n",
        "spark.conf.set(\"spark.sql.shuffle.partitions\", 8)\n",
        "# Verify the setting \n",
        "spark.conf.get(\"spark.sql.shuffle.partitions\")"
      ],
      "execution_count": null,
      "outputs": [
        {
          "output_type": "execute_result",
          "data": {
            "application/vnd.google.colaboratory.intrinsic+json": {
              "type": "string"
            },
            "text/plain": [
              "'8'"
            ]
          },
          "metadata": {
            "tags": []
          },
          "execution_count": 34
        }
      ]
    },
    {
      "cell_type": "markdown",
      "metadata": {
        "application/vnd.databricks.v1+cell": {
          "title": "",
          "showTitle": false,
          "inputWidgets": {},
          "nuid": "444c82ab-ba66-421e-975d-7beb8a12070f"
        },
        "id": "ehTFlukz17EC"
      },
      "source": [
        "Let's re-execute our last query:"
      ]
    },
    {
      "cell_type": "code",
      "metadata": {
        "application/vnd.databricks.v1+cell": {
          "title": "",
          "showTitle": false,
          "inputWidgets": {},
          "nuid": "0ec75535-9266-4c2e-a7a2-cd330ba016f4"
        },
        "id": "E1rjmizy17ED",
        "outputId": "7620193b-549a-489a-9b25-ebfb406255a1",
        "colab": {
          "base_uri": "https://localhost:8080/",
          "height": 289
        }
      },
      "source": [
        "(fire_df\n",
        " .select(\"CallType\").where(col(\"CallType\").isNotNull())\n",
        " .groupBy(\"CallType\")\n",
        " .count()\n",
        " .orderBy(\"count\", ascending=False)\n",
        " .show(n=10, truncate=False))"
      ],
      "execution_count": null,
      "outputs": [
        {
          "output_type": "stream",
          "text": [
            "+-------------------------------+------+\n",
            "|CallType                       |count |\n",
            "+-------------------------------+------+\n",
            "|Medical Incident               |113794|\n",
            "|Structure Fire                 |23319 |\n",
            "|Alarms                         |19406 |\n",
            "|Traffic Collision              |7013  |\n",
            "|Citizen Assist / Service Call  |2524  |\n",
            "|Other                          |2166  |\n",
            "|Outside Fire                   |2094  |\n",
            "|Vehicle Fire                   |854   |\n",
            "|Gas Leak (Natural and LP Gases)|764   |\n",
            "|Water Rescue                   |755   |\n",
            "+-------------------------------+------+\n",
            "only showing top 10 rows\n",
            "\n"
          ],
          "name": "stdout"
        }
      ]
    },
    {
      "cell_type": "code",
      "metadata": {
        "id": "xMtF8Kux89uS",
        "outputId": "4f14ba0f-9650-4a93-b181-1cb6b14fcdfc",
        "colab": {
          "base_uri": "https://localhost:8080/",
          "height": 306
        }
      },
      "source": [
        "%timeit -n1 -r1 (fire_df.select(\"CallType\").where(col(\"CallType\").isNotNull()).groupBy(\"CallType\").count().orderBy(\"count\", ascending=False).show(n=10, truncate=False))"
      ],
      "execution_count": null,
      "outputs": [
        {
          "output_type": "stream",
          "text": [
            "+-------------------------------+------+\n",
            "|CallType                       |count |\n",
            "+-------------------------------+------+\n",
            "|Medical Incident               |113794|\n",
            "|Structure Fire                 |23319 |\n",
            "|Alarms                         |19406 |\n",
            "|Traffic Collision              |7013  |\n",
            "|Citizen Assist / Service Call  |2524  |\n",
            "|Other                          |2166  |\n",
            "|Outside Fire                   |2094  |\n",
            "|Vehicle Fire                   |854   |\n",
            "|Gas Leak (Natural and LP Gases)|764   |\n",
            "|Water Rescue                   |755   |\n",
            "+-------------------------------+------+\n",
            "only showing top 10 rows\n",
            "\n",
            "1 loop, best of 1: 1.27 s per loop\n"
          ],
          "name": "stdout"
        }
      ]
    },
    {
      "cell_type": "markdown",
      "metadata": {
        "application/vnd.databricks.v1+cell": {
          "title": "",
          "showTitle": false,
          "inputWidgets": {},
          "nuid": "1fb85a3a-a0ab-4e72-ab8c-4ce46abef3d2"
        },
        "id": "w_aRWRUL17EF"
      },
      "source": [
        "* This was significantly faster (about 8x faster). \n",
        "* You may want to try changing the parameter to different values (e.g. 2, 64, 400) and see how it impacts performance."
      ]
    },
    {
      "cell_type": "markdown",
      "metadata": {
        "application/vnd.databricks.v1+cell": {
          "title": "",
          "showTitle": false,
          "inputWidgets": {},
          "nuid": "d3cc46e9-2aae-475f-a4dc-fe5210c44254"
        },
        "id": "f7cmwc7517EG"
      },
      "source": [
        "# Optimising User Defined Functions\n",
        "\n",
        "* Sparks allows the flexibility to define your own functions.\n",
        "* Standard Python UDFs operate **one-row-at-a-time** (slow performance)\n",
        "* Spark 2.3 introduced **vectorised/Pandas UDFs**. \n",
        " * These UDFs use pandas to work with the data. \n",
        " * Data is represented as a `pandas.Series`, which are worked on via vectorized operations.\n",
        " * Can increase performance up to 100x compared to row-at-a-time Python UDFs."
      ]
    },
    {
      "cell_type": "markdown",
      "metadata": {
        "application/vnd.databricks.v1+cell": {
          "title": "",
          "showTitle": false,
          "inputWidgets": {},
          "nuid": "995da20e-76b8-4fcf-b55b-6e6c9fb00678"
        },
        "id": "0eZceagQ17EG"
      },
      "source": [
        "* Let's ilustrate the difference with a simple **plus one** function.\n",
        "* This is just for illustration. Built-in operators can perform faster in this scenario.\n",
        "* Start with some dummy data"
      ]
    },
    {
      "cell_type": "code",
      "metadata": {
        "application/vnd.databricks.v1+cell": {
          "title": "",
          "showTitle": false,
          "inputWidgets": {},
          "nuid": "8d4aab8c-a7e6-475d-8d7e-4cb5dc63a7fb"
        },
        "id": "_BFIaByp17EG",
        "outputId": "5c1a6f71-b4f0-43b6-997f-e738e5a6e436",
        "colab": {
          "base_uri": "https://localhost:8080/",
          "height": 34
        }
      },
      "source": [
        "from pyspark.sql.types import *\n",
        "from pyspark.sql.functions import col, count, rand, collect_list, explode, struct, count, pandas_udf\n",
        "\n",
        "df = (spark\n",
        "      .range(0, 10 * 1000 * 1000)\n",
        "      .withColumn('id', (col('id') / 1000).cast('integer'))\n",
        "      .withColumn('v', rand()))\n",
        "\n",
        "df.cache()\n",
        "df.count()"
      ],
      "execution_count": null,
      "outputs": [
        {
          "output_type": "execute_result",
          "data": {
            "text/plain": [
              "10000000"
            ]
          },
          "metadata": {
            "tags": []
          },
          "execution_count": 5
        }
      ]
    },
    {
      "cell_type": "code",
      "metadata": {
        "application/vnd.databricks.v1+cell": {
          "title": "",
          "showTitle": false,
          "inputWidgets": {},
          "nuid": "a2e28fd8-c365-4885-b1f5-39529ca0d05e"
        },
        "id": "zbUZ066D17EI",
        "outputId": "f6e18d33-0a8f-43c0-dbc9-ec1000decf17",
        "colab": {
          "base_uri": "https://localhost:8080/",
          "height": 459
        }
      },
      "source": [
        "df.show()"
      ],
      "execution_count": null,
      "outputs": [
        {
          "output_type": "stream",
          "text": [
            "+---+-------------------+\n",
            "| id|                  v|\n",
            "+---+-------------------+\n",
            "|  0| 0.8941021336476704|\n",
            "|  0| 0.8444526738723864|\n",
            "|  0|0.11665741281281539|\n",
            "|  0| 0.7234779987711553|\n",
            "|  0| 0.7745724436175354|\n",
            "|  0| 0.4195287123329897|\n",
            "|  0| 0.8899211963386082|\n",
            "|  0|0.09779443719344982|\n",
            "|  0|0.30079979615793595|\n",
            "|  0|0.18549639156320197|\n",
            "|  0|0.12371822037611913|\n",
            "|  0| 0.9565676160904173|\n",
            "|  0| 0.9033709921721853|\n",
            "|  0| 0.8634992221716727|\n",
            "|  0|0.18040124595202378|\n",
            "|  0| 0.5515451914794307|\n",
            "|  0| 0.2789977056382631|\n",
            "|  0| 0.5030959847311234|\n",
            "|  0|0.28745408566386954|\n",
            "|  0|0.38908030835233853|\n",
            "+---+-------------------+\n",
            "only showing top 20 rows\n",
            "\n"
          ],
          "name": "stdout"
        }
      ]
    },
    {
      "cell_type": "markdown",
      "metadata": {
        "application/vnd.databricks.v1+cell": {
          "title": "",
          "showTitle": false,
          "inputWidgets": {},
          "nuid": "6fc8c50b-c25a-4e2a-a208-0268fe6c3463"
        },
        "id": "h9dZhjMx17EK"
      },
      "source": [
        "## Incrementing the `v` column by one"
      ]
    },
    {
      "cell_type": "markdown",
      "metadata": {
        "application/vnd.databricks.v1+cell": {
          "title": "",
          "showTitle": false,
          "inputWidgets": {},
          "nuid": "ccf0aeb4-c392-44b7-85b2-cae53276642a"
        },
        "id": "JJufF-eG17EK"
      },
      "source": [
        "## PySpark UDF\n",
        "\n",
        "Using row-at-a-time UDF:"
      ]
    },
    {
      "cell_type": "code",
      "metadata": {
        "application/vnd.databricks.v1+cell": {
          "title": "",
          "showTitle": false,
          "inputWidgets": {},
          "nuid": "2cfcb977-ff8b-4037-a299-8e6ce0e02881"
        },
        "id": "6qs5U_Om17EL",
        "outputId": "78b94e1f-a721-4768-9022-cbc51be06173",
        "colab": {
          "base_uri": "https://localhost:8080/",
          "height": 136
        }
      },
      "source": [
        "from pyspark.sql.functions import udf\n",
        "@udf(\"double\")\n",
        "def plus_one(v):\n",
        "    return v + 1\n",
        "\n",
        "%timeit -n1 -r1 df.withColumn('v', plus_one(df.v)).agg(count(col('v'))).show()"
      ],
      "execution_count": null,
      "outputs": [
        {
          "output_type": "stream",
          "text": [
            "+--------+\n",
            "|count(v)|\n",
            "+--------+\n",
            "|10000000|\n",
            "+--------+\n",
            "\n",
            "1 loop, best of 1: 22.7 s per loop\n"
          ],
          "name": "stdout"
        }
      ]
    },
    {
      "cell_type": "markdown",
      "metadata": {
        "application/vnd.databricks.v1+cell": {
          "title": "",
          "showTitle": false,
          "inputWidgets": {},
          "nuid": "9eadd328-1343-47d2-a9ec-e188f192c9e7"
        },
        "id": "UBcRQILc17EM"
      },
      "source": [
        "## Vectorised UDF"
      ]
    },
    {
      "cell_type": "code",
      "metadata": {
        "application/vnd.databricks.v1+cell": {
          "title": "",
          "showTitle": false,
          "inputWidgets": {},
          "nuid": "f7de66e0-6a3d-4331-96fd-8340eecd6145"
        },
        "id": "2ERQR0p017EN",
        "outputId": "c8ca7790-5c50-4de2-c9ca-16009de65d2e",
        "colab": {
          "base_uri": "https://localhost:8080/",
          "height": 136
        }
      },
      "source": [
        "from pyspark.sql.functions import pandas_udf\n",
        "@pandas_udf('double')\n",
        "def vectorized_plus_one(v):\n",
        "    return v + 1\n",
        "\n",
        "%timeit -n1 -r1 df.withColumn('v', vectorized_plus_one(df.v)).agg(count(col('v'))).show()"
      ],
      "execution_count": null,
      "outputs": [
        {
          "output_type": "stream",
          "text": [
            "+--------+\n",
            "|count(v)|\n",
            "+--------+\n",
            "|10000000|\n",
            "+--------+\n",
            "\n",
            "1 loop, best of 1: 4.73 s per loop\n"
          ],
          "name": "stdout"
        }
      ]
    },
    {
      "cell_type": "markdown",
      "metadata": {
        "application/vnd.databricks.v1+cell": {
          "title": "",
          "showTitle": false,
          "inputWidgets": {},
          "nuid": "11abc348-e5f3-4269-8fbb-f31c9812f8fa"
        },
        "id": "B6wLePmr17EP"
      },
      "source": [
        "* That was significantly faster! (about 3x faster)\n",
        "* Performance gains can be much larger, e.g., 100x. See [this article](https://databricks.com/blog/2017/10/30/introducing-vectorized-udfs-for-pyspark.html)."
      ]
    },
    {
      "cell_type": "markdown",
      "metadata": {
        "application/vnd.databricks.v1+cell": {
          "title": "",
          "showTitle": false,
          "inputWidgets": {},
          "nuid": "115509e7-5f47-46df-a135-7b6b81fa0e3a"
        },
        "id": "6sHa8yHL17EQ"
      },
      "source": [
        "## Best practices with UDFs \n",
        "\n",
        "* Use vectorised versions...\n",
        "* ...But, generally **avoid UDFs** if built-in functions can do the job.\n",
        "* UDFs are a blackbox for Spark and it won't try to optimise them via, e.g., Catalyst optimisation"
      ]
    },
    {
      "cell_type": "markdown",
      "metadata": {
        "application/vnd.databricks.v1+cell": {
          "title": "",
          "showTitle": false,
          "inputWidgets": {},
          "nuid": "26cd117f-7aa1-4c74-86e0-b48e0c84a249"
        },
        "id": "3zIYnEnr17EQ"
      },
      "source": [
        "## Built-in method\n",
        "\n",
        "Let's check the performance of the built-in method that increments by one."
      ]
    },
    {
      "cell_type": "code",
      "metadata": {
        "application/vnd.databricks.v1+cell": {
          "title": "",
          "showTitle": false,
          "inputWidgets": {},
          "nuid": "50e5371f-f060-4a3d-983b-4569f14bc5bc"
        },
        "id": "hGCQwJ7m17EQ",
        "outputId": "2a407884-249e-4c04-9101-a25fca1a9ca6",
        "colab": {
          "base_uri": "https://localhost:8080/",
          "height": 136
        }
      },
      "source": [
        "from pyspark.sql.functions import lit\n",
        "\n",
        "%timeit -n1 -r1 df.withColumn('v', df.v + lit(1)).agg(count(col('v'))).show()"
      ],
      "execution_count": null,
      "outputs": [
        {
          "output_type": "stream",
          "text": [
            "+--------+\n",
            "|count(v)|\n",
            "+--------+\n",
            "|10000000|\n",
            "+--------+\n",
            "\n",
            "1 loop, best of 1: 245 ms per loop\n"
          ],
          "name": "stdout"
        }
      ]
    },
    {
      "cell_type": "markdown",
      "metadata": {
        "application/vnd.databricks.v1+cell": {
          "title": "",
          "showTitle": false,
          "inputWidgets": {},
          "nuid": "e2bf0c90-921f-457c-85f9-f37d0412854d"
        },
        "id": "k0pz7_1f17ES"
      },
      "source": [
        "That's about **20x** faster than the vectorised UDF, and **60x** faster than the Python UDF."
      ]
    }
  ]
}